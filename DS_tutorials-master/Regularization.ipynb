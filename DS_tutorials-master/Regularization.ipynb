{
 "cells": [
  {
   "cell_type": "markdown",
   "metadata": {},
   "source": [
    "# Intuition for Regularization\n",
    "\n",
    "Okay, so you understand regression like a champion, but something tells you that these models are not a cure-all that explain all data. Big data sets are notorious for growing complex and creating extreme explanations for the data they describe. Even if these extreme explantions fit the data better than a simpler model, they are less likely to be  generalized. These models explain data from the past well, but are less likely to explain for future data it has never seen before. This issue, as you probably heard, is called an overfit model.\n",
    "\n",
    "Take this trivial example: "
   ]
  },
  {
   "cell_type": "markdown",
   "metadata": {},
   "source": [
    "<table border=\"1\" class=\"dataframe\">   <thead>     <tr style=\"text-align: right;\">       <th></th>       <th>animal</th>       <th>size</th>       <th>label</th>     </tr>   </thead>   <tbody>     <tr>       <th>Bo</th>       <td>snake</td>       <td>small</td>       <td>friendly</td>     </tr>     <tr>       <th>Spot</th>       <td>dog</td>       <td>small</td>       <td>friendly</td>     </tr>     <tr>       <th>Mo</th>       <td>cat</td>       <td>small</td>       <td>enemy</td>     </tr>     <tr>       <th>Lefty</th>       <td>cat</td>       <td>small</td>       <td>friendly</td>     </tr>     <tr>       <th>Curly</th>       <td>dog</td>       <td>large</td>       <td>friendly</td>     </tr>     <tr>       <th>Tom</th>       <td>snail</td>       <td>small</td>       <td>friendly</td>     </tr>     <tr>       <th>Jerry</th>       <td>dog</td>       <td>large</td>       <td>enemy</td>     </tr>     <tr>       <th>Sylvester</th>       <td>cat</td>       <td>large</td>       <td>enemy</td>     </tr>   </tbody> </table>"
   ]
  },
  {
   "cell_type": "markdown",
   "metadata": {},
   "source": [
    "Our model builds the rule:\n",
    "\n",
    "    \"pets with up to four-letter names are enemies, as are large dogs with names beginning with 'J', except that small snakes are not enemies\"\n",
    "\n",
    "The model is dumb. Yes, it fits perfectly, but its clunky. Intuitively, we know this will not generalize out to all the pets in the real world. There must be a simpler rule. Consider this:\n",
    "\n",
    "    \"large dogs and cats are enemies\"\n",
    "\n",
    "It does not fit the data perfectly, but fits reasonably well. It's simpler, and we may suppose that this rule will better hold true to thousands more examples.\n",
    "\n",
    "Regularization prevents this overfitting. Loosely, regularization is a technique to discourage complexity and increase  generalization, and it sometimes comes at the cost of model accuracy. "
   ]
  },
  {
   "cell_type": "markdown",
   "metadata": {},
   "source": [
    "\"Okay\", you say. I'm ready for level 2.\n",
    "\n",
    "### Underfitting \n",
    "First - a quick note on underfitting. This is the condition where our model is not able to find any relationship between inputs and outputs. Our model cannot find any corelation between a pet's characteristics and friendliness. Underfitting is intuitive to catch, just look at the classification accuracy on the training data. If the accuracy is low, the model may be too simple, and therefore underfit. Increase the complexity (the number of paramters in the model), and get a better fit. As we will see, regularization also helps alleviate this problem. \n",
    "\n",
    "### Overfitting \n",
    "On the other end of the spectrum, overfitting is more difficult to detect. You must monitor when your model is performing _too_ well on training data, and poorly on testing data. \n",
    "\n",
    "Regularization will help the model find a happy medium between these two states, and minimize the overall prediction error. It tweaks the model to avoid being too simple, avoid being too complex, and find something juuuuust right. \n",
    "\n",
    "<img src=\"https://raw.githubusercontent.com/momonala/DS_tutorials/master/files/bias_variance_tradeoff_e.jpg\">\n",
    "<center>\n",
    "    ** Figure 1 **\n",
    "</center>"
   ]
  },
  {
   "cell_type": "markdown",
   "metadata": {},
   "source": [
    "### Regularization \n",
    "\n",
    "So how do we implement regularization? It is acheived by penalzing the weights in our model. Let's take a high level look at our model: \n",
    "\n",
    "<img src=\"https://raw.githubusercontent.com/momonala/DS_tutorials/master/files/model_matrix.png\" width='600'>\n",
    "<center>\n",
    "    ** Figure 2 **\n",
    "</center>\n",
    "\n",
    "In this infographic, there are four parameters to our model: \n",
    "\n",
    "    1) x: The input data with i (height) data points and j (width) features\n",
    "    2) y: The labels \n",
    "    3) ŷ: The predictions (what our model outputs)\n",
    "    4) W: The weights of the \"j\" coefficents\n",
    "\n",
    "<img src='https://raw.githubusercontent.com/momonala/DS_tutorials/master/files/prediction_eq.png'>\n",
    "\n",
    "\n",
    "\n",
    "In mathematical terms, our prediction, ŷ, equals the weighted sum of the data points. \n",
    "\n",
    "### Penalizing Weights\n",
    "\n",
    "Regularization penalizes the weights, W, of our model, above. How does this help? In Figure 1 we learned that after a point, increasing model complexity is bad for the prediction accuracy. The model complexity prevents generalization by contouring to very small deviations in the data. \n",
    "\n",
    "Another way to think of it is that smaller coefficients are considered less complex because they say less about the world - they make weaker statements. Think about how the two statements on animal friendliness differ. \"Complexity\" may not be the ideal term; its a shame statistics don't take courses in etymology.\n",
    "\n",
    "The key point is that **the size of the coeffient weights, W, increases with model complexity**. The magnitude of the coefficient represents the emphasis we are putting on that feature as a predictor. If we think animal size is important to friendliness, we will give that feature a large weight.  \n",
    "\n",
    "\n",
    "\n",
    "Penalizing the weights constrains them, and helps generalize the predictions our model makes. "
   ]
  },
  {
   "cell_type": "markdown",
   "metadata": {},
   "source": [
    "# L2 Ridge Regression\n",
    "\n",
    "Ridge Regresssion is the most common type of regularization penalty. It is calculated as the sum of the squares of the weights. Here we see the equation for the L2 penalty. Later I will cover how to implement it into the model. \n",
    "\n",
    "<img src='https://raw.githubusercontent.com/momonala/DS_tutorials/master/files/l2_eq.png'>\n",
    "\n",
    "we can gain an intuition of it in python: "
   ]
  },
  {
   "cell_type": "code",
   "execution_count": null,
   "metadata": {
    "collapsed": true
   },
   "outputs": [],
   "source": [
    "penalty = 0 #initialzie to zero, R(W) in the equation above\n",
    "W = np.zeros(shape=(10,10)) #fake weights matrix\n",
    "\n",
    "for i in np.arange(0, W.shape[0]):\n",
    "    for j in np.arange(0, W.shape[1]):\n",
    "        penalty += (W[i][j]**2)#square the weights and add "
   ]
  },
  {
   "cell_type": "markdown",
   "metadata": {},
   "source": [
    "Here, we are looping over the entire weights matrix and summing the squares of the weights. We can do this more efficiently with linear algebra, but this is just for demonstration. As an exponential function, you can see that L2 will penalize large weights from our W matrix, and prefer smaller ones. This will seek out W values that represent all features of the data. \n",
    "\n",
    "We should note that L2 is primarily used to prevent overfitting. The result keeps all the features in the model, but may reduce their weight. This is not true of all types of regulariztion. "
   ]
  },
  {
   "cell_type": "markdown",
   "metadata": {},
   "source": [
    "# L1 Lasso Regression\n",
    "\n",
    "L1 takes the absolute value rather than the square:\n",
    "\n",
    "<img src='https://raw.githubusercontent.com/momonala/DS_tutorials/master/files/l1_eq.png'>\n",
    "\n",
    "L1 regularization shrinks coefficients, like L2, but it may also reduce some coefficents to zero, which is unique. A coeficent of zero essentially means that feature has been removed from the model. This is useful in senarios where we have hundres or thousands of features, like image classification, but may be excessive for smaller needs. \n",
    "\n",
    "we can gain an intuition of L1 in python: "
   ]
  },
  {
   "cell_type": "code",
   "execution_count": null,
   "metadata": {
    "collapsed": true
   },
   "outputs": [],
   "source": [
    "penalty = 0 #initialzie to zero, R(W) in the equation above\n",
    "W = np.zeros(shape=(10,10)) #fake weights matrix\n",
    "\n",
    "for i in np.arange(0, W.shape[0]):\n",
    "    for j in np.arange(0, W.shape[1]):\n",
    "        penalty += (abs(W[i][j]))#absolute value the weights and add "
   ]
  },
  {
   "cell_type": "markdown",
   "metadata": {},
   "source": [
    "There are a few other types of regularization (Elastic Net, Dropout) used for other models. The key takeway is that we have calculated an R(W) penalty term. \n",
    "\n",
    "# Loss Function\n",
    "\n",
    "We must now add this term to our loss function (also called cost function or objective function). The loss function maps our model performance to some \"real-world\" interpretation, where we can measure its error as a \"cost\". Our goal is to minimize that cost; minimize the error.  Quantitatively, the loss function answers the following: \n",
    "\n",
    "    \"The real label was 1, but I predicted 0. Is that bad?\" \n",
    "    \"Yeah. That's bad. 500 bad, to be specific.\"\n",
    "\n",
    "Or \"X bad\", where X is the measure of the cost. Mathematically, this is the most basic form of the loss function: \n",
    "\n",
    "<img src='https://raw.githubusercontent.com/momonala/DS_tutorials/master/files/loss_func.png' width='150'>\n",
    "\n",
    "To implement regularization, we multiply our penalty term, R(W), by a coefficent λ, and add that  to the loss function. \n",
    "\n",
    "<img src='https://raw.githubusercontent.com/momonala/DS_tutorials/master/files/loss_func_add_reg.png' width='220'>\n",
    "\n",
    "λ is a hyperparamter, which means that it is a variable that _**we**_ set, unlike the weights, W, or predictions ŷ. We can also tune λ like a radio dial, and set it to value that gives us the best results. If cleaning up data is the thing you do most in data science, then tuning hyperparameters is the thing you do second most. \n",
    "\n",
    "And that's it! We update weights in the loss function, to minimize our prediction error. In doing this, we have reduced the magnitude of the coefficeints, and therefore reduced the model complexity. The trick comes in idenifying when and how to implement regularization. \n",
    "\n",
    "# Python Implementation\n",
    "\n",
    "Here I use the university admit dataset that determines if a student will get into grad school based on GPA, GRE, and the prestige of their undergrad almamater. I use sklearn's logisitc regression function to classify whether a student will get into the university, and try out the corresponding regularization types with the \"penalty\" argument. Note that the only two options here are L1 and L2 (no none option), and the default setting is L2. Though you can not \"turn off\" regularization with sklearn, you can just tune its stregth to be very low, as explained later. "
   ]
  },
  {
   "cell_type": "code",
   "execution_count": 1,
   "metadata": {
    "collapsed": false
   },
   "outputs": [
    {
     "data": {
      "text/html": [
       "<div>\n",
       "<table border=\"1\" class=\"dataframe\">\n",
       "  <thead>\n",
       "    <tr style=\"text-align: right;\">\n",
       "      <th></th>\n",
       "      <th>admit</th>\n",
       "      <th>gre</th>\n",
       "      <th>gpa</th>\n",
       "      <th>rank</th>\n",
       "    </tr>\n",
       "  </thead>\n",
       "  <tbody>\n",
       "    <tr>\n",
       "      <th>0</th>\n",
       "      <td>0</td>\n",
       "      <td>380</td>\n",
       "      <td>3.61</td>\n",
       "      <td>3</td>\n",
       "    </tr>\n",
       "    <tr>\n",
       "      <th>1</th>\n",
       "      <td>1</td>\n",
       "      <td>660</td>\n",
       "      <td>3.67</td>\n",
       "      <td>3</td>\n",
       "    </tr>\n",
       "    <tr>\n",
       "      <th>2</th>\n",
       "      <td>1</td>\n",
       "      <td>800</td>\n",
       "      <td>4.00</td>\n",
       "      <td>1</td>\n",
       "    </tr>\n",
       "  </tbody>\n",
       "</table>\n",
       "</div>"
      ],
      "text/plain": [
       "   admit  gre   gpa  rank\n",
       "0      0  380  3.61     3\n",
       "1      1  660  3.67     3\n",
       "2      1  800  4.00     1"
      ]
     },
     "execution_count": 1,
     "metadata": {},
     "output_type": "execute_result"
    }
   ],
   "source": [
    "import pandas as pd \n",
    "\n",
    "data = pd.read_csv(\"https://stats.idre.ucla.edu/stat/data/binary.csv\")\n",
    "data.head(3)"
   ]
  },
  {
   "cell_type": "code",
   "execution_count": 2,
   "metadata": {
    "collapsed": false
   },
   "outputs": [
    {
     "name": "stdout",
     "output_type": "stream",
     "text": [
      "add dummies\n"
     ]
    },
    {
     "data": {
      "text/html": [
       "<div>\n",
       "<table border=\"1\" class=\"dataframe\">\n",
       "  <thead>\n",
       "    <tr style=\"text-align: right;\">\n",
       "      <th></th>\n",
       "      <th>admit</th>\n",
       "      <th>gre</th>\n",
       "      <th>gpa</th>\n",
       "      <th>rank_1</th>\n",
       "      <th>rank_2</th>\n",
       "      <th>rank_3</th>\n",
       "      <th>rank_4</th>\n",
       "    </tr>\n",
       "  </thead>\n",
       "  <tbody>\n",
       "    <tr>\n",
       "      <th>0</th>\n",
       "      <td>0</td>\n",
       "      <td>380</td>\n",
       "      <td>3.61</td>\n",
       "      <td>0</td>\n",
       "      <td>0</td>\n",
       "      <td>1</td>\n",
       "      <td>0</td>\n",
       "    </tr>\n",
       "    <tr>\n",
       "      <th>1</th>\n",
       "      <td>1</td>\n",
       "      <td>660</td>\n",
       "      <td>3.67</td>\n",
       "      <td>0</td>\n",
       "      <td>0</td>\n",
       "      <td>1</td>\n",
       "      <td>0</td>\n",
       "    </tr>\n",
       "    <tr>\n",
       "      <th>2</th>\n",
       "      <td>1</td>\n",
       "      <td>800</td>\n",
       "      <td>4.00</td>\n",
       "      <td>1</td>\n",
       "      <td>0</td>\n",
       "      <td>0</td>\n",
       "      <td>0</td>\n",
       "    </tr>\n",
       "  </tbody>\n",
       "</table>\n",
       "</div>"
      ],
      "text/plain": [
       "   admit  gre   gpa  rank_1  rank_2  rank_3  rank_4\n",
       "0      0  380  3.61       0       0       1       0\n",
       "1      1  660  3.67       0       0       1       0\n",
       "2      1  800  4.00       1       0       0       0"
      ]
     },
     "execution_count": 2,
     "metadata": {},
     "output_type": "execute_result"
    }
   ],
   "source": [
    "#create dummy variables (categorical) for logistic regression \n",
    "#add to original dataframe \n",
    "dummy_ranks = pd.get_dummies(data['rank'], prefix='rank')\n",
    "cols_to_keep = ['admit', 'gre', 'gpa']\n",
    "df = data[cols_to_keep].join(dummy_ranks)\n",
    "print \"add dummies\"\n",
    "df.head(3)"
   ]
  },
  {
   "cell_type": "code",
   "execution_count": 3,
   "metadata": {
    "collapsed": false
   },
   "outputs": [
    {
     "name": "stdout",
     "output_type": "stream",
     "text": [
      "penalty:  l1\n",
      "accuracy 0.67\n",
      "weights:  [[  1.01840370e-03   2.12057457e-01   1.10840207e+00   6.20089456e-01\n",
      "    0.00000000e+00]]\n",
      "\n",
      "penalty:  l2\n",
      "accuracy 0.65\n",
      "weights:  [[  5.36604799e-04   8.84567691e-02   1.01122051e+00   5.32212066e-01\n",
      "   -1.55149010e-01]]\n"
     ]
    }
   ],
   "source": [
    "from sklearn import linear_model\n",
    "from sklearn.model_selection import  train_test_split\n",
    "\n",
    "#note that I remove prestige_1 to avoid the dummy variable trap\n",
    "#one dummy must be treated as a baseline and removed since it will be collinear with the sum of the others \n",
    "X = df[df.columns[1:-1]] #select features \n",
    "Y = df['admit'] #select labels \n",
    "train_X, test_X, train_Y, test_Y = train_test_split(X,Y,random_state=2) #create test and train sets \n",
    "\n",
    "### L1 ###\n",
    "model_L1 = linear_model.LogisticRegression(penalty='l1')\n",
    "model_L1.fit(train_X, train_Y)\n",
    "    \n",
    "print 'penalty: ', model_L1.penalty\n",
    "print 'accuracy', model_L1.score(test_X, test_Y) #remember to score on testing set! \n",
    "print 'weights: ', model_L1.coef_\n",
    "print \n",
    "\n",
    "### L2 ###\n",
    "model_L2 = linear_model.LogisticRegression(penalty='l2')\n",
    "model_L2.fit(train_X, train_Y)\n",
    "    \n",
    "print 'penalty: ', model_L2.penalty\n",
    "print 'accuracy', model_L2.score(test_X, test_Y)\n",
    "print 'weights: ', model_L2.coef_"
   ]
  },
  {
   "cell_type": "markdown",
   "metadata": {},
   "source": [
    "#### Tuning the Regularization Strength \n",
    "We can also change the regularization strength hyperparameter, λ. But of course, statisticians could not make it that easy. Sklearn replaces λ with the variable C, which is actually the inverese of the regularization strength. The way to interpret this is that C must be a postive float, and the regularization is strongest at values near 0, and weaker as you grow toward infiniti. Despite the underlying math, we tune C exactly as we would λ. \n",
    "\n",
    "In this example I loop over several different values of C and print out the accuracy results."
   ]
  },
  {
   "cell_type": "code",
   "execution_count": 4,
   "metadata": {
    "collapsed": false
   },
   "outputs": [
    {
     "name": "stdout",
     "output_type": "stream",
     "text": [
      "regularization strength:  1000.0\n",
      "accuracy 0.69\n",
      "regularization strength:  100.0\n",
      "accuracy 0.69\n",
      "regularization strength:  10.0\n",
      "accuracy 0.69\n",
      "regularization strength:  1.0\n",
      "accuracy 0.65\n",
      "regularization strength:  0.1\n",
      "accuracy 0.63\n",
      "regularization strength:  0.01\n",
      "accuracy 0.63\n",
      "regularization strength:  0.001\n",
      "accuracy 0.63\n"
     ]
    }
   ],
   "source": [
    "import numpy as np\n",
    "# create array of magnitudes of 10^-4 to 10^4\n",
    "strength = np.linspace(-3,3, 7)\n",
    "strength = .1**strength\n",
    "\n",
    "c = [] #log values\n",
    "a = []\n",
    "for reg_stregth in strength: #iterate over hyperparams \n",
    "    model = linear_model.LogisticRegression(penalty='l2', C=reg_stregth) #set C to value being iterated on \n",
    "    model.fit(train_X, train_Y)\n",
    "    \n",
    "    c.append(model.C) #log values\n",
    "    a.append(model.score(test_X, test_Y))\n",
    "    print 'regularization strength: ', model.C\n",
    "    print 'accuracy', model.score(test_X, test_Y)"
   ]
  },
  {
   "cell_type": "markdown",
   "metadata": {},
   "source": [
    "It looks like, for this model, regularization was not needed. The weaker regularization strengths (larger values of C) seem to improve the model. We can clearly see the effect of the strength from values 0.1-10. \n",
    "\n",
    "Below is a way to visualize the accuracy changes as a function of regularization strength. "
   ]
  },
  {
   "cell_type": "code",
   "execution_count": 5,
   "metadata": {
    "collapsed": false
   },
   "outputs": [
    {
     "data": {
      "image/png": "[encoded data removed]",
      "text/plain": [
       "<matplotlib.figure.Figure at 0x8a93518>"
      ]
     },
     "metadata": {},
     "output_type": "display_data"
    }
   ],
   "source": [
    "import matplotlib.pyplot as plt \n",
    "fig = plt.figure(figsize=(10,5))\n",
    "ax = plt.subplot(111)\n",
    "ax.plot(c,a)\n",
    "ax.set_xscale('log')\n",
    "plt.xlabel('regularization strength hyperparameter C')\n",
    "plt.ylabel('testing accuracy %')\n",
    "plt.show()"
   ]
  },
  {
   "cell_type": "markdown",
   "metadata": {},
   "source": [
    "# Conclusion\n",
    "\n",
    "Regularization is a technique to optimize model fit, most commonly to prevent overfitting. It works by penalizing the weights matrix, W, based on the size of your feature coefficients. Applying the penalty has the effect of generalizing the model to new data, but sometimes lowering the training accuracy. L2 regularization, or Ridge, is the most common for preventing overfitting. L1 regularization has the possibility to remove features from the data, and is better for extremely large datasets. Regularization comes with the need to tune the λ hyperparameter, which is the strength of the penalty. \n",
    "\n",
    "In practice, regularization has the following work flow:\n",
    "\n",
    "    1) Determine if regularization should be applied. Is there a discrepancy in training and testing accuracy? \n",
    "    2) Which type to use? Is the model overfit? How big is the dataset? \n",
    "    3) Tune λ, the strength of the regularization to optimize testing accuracy. "
   ]
  },
  {
   "cell_type": "markdown",
   "metadata": {},
   "source": [
    "Sources: \n",
    "\n",
    "1) https://www.quora.com/What-is-regularization-in-machine-learning\n",
    "\n",
    "2) http://www.pyimagesearch.com/2016/09/19/understanding-regularization-for-image-classification-and-machine-learning/\n",
    "\n",
    "3) https://www.analyticsvidhya.com/blog/2016/01/complete-tutorial-ridge-lasso-regression-python/"
   ]
  }
 ],
 "metadata": {
  "kernelspec": {
   "display_name": "Python 2",
   "language": "python",
   "name": "python2"
  },
  "language_info": {
   "codemirror_mode": {
    "name": "ipython",
    "version": 2
   },
   "file_extension": ".py",
   "mimetype": "text/x-python",
   "name": "python",
   "nbconvert_exporter": "python",
   "pygments_lexer": "ipython2",
   "version": "2.7.13"
  }
 },
 "nbformat": 4,
 "nbformat_minor": 2
}
